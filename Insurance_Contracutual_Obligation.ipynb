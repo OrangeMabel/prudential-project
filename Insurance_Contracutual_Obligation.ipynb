{
 "cells": [
  {
   "cell_type": "code",
   "execution_count": 1,
   "metadata": {
    "collapsed": true
   },
   "outputs": [],
   "source": [
    "cik = 1137774\n",
    "import requests\n",
    "from bs4 import BeautifulSoup\n",
    "import pandas as pd\n",
    "\n",
    "\n",
    "def fs_page(cik):\n",
    "    url=\"https://www.sec.gov/cgi-bin/browse-edgar?action=getcompany&CIK={}&type=10-k&dateb=&owner=exclude&count=40\".format(cik)   \n",
    "    response=requests.get(url)\n",
    "    result_page=BeautifulSoup(response.content,'lxml')\n",
    "    exturl = result_page.find_all('a',id='documentsbutton')\n",
    "    list_=list()\n",
    "    for ext in exturl:\n",
    "        link = \"https://www.sec.gov/\"+ ext.get('href')\n",
    "        list_.append(link)\n",
    "    dict_k = dict()\n",
    "\n",
    "    for i in list_:\n",
    "        page = BeautifulSoup(requests.get(i).content, 'lxml')\n",
    "        if page.find('strong').text == \"Form 10-K\":\n",
    "            year = page.find_all('div',class_=\"info\")[3].text\n",
    "            test=\"https://www.sec.gov/\"+ page.find_all('td')[2].find('a').get('href')\n",
    "            if \"htm\" in test:\n",
    "        #         print(test)\n",
    "                dict_k[year]=test\n",
    "    return dict_k"
   ]
  },
  {
   "cell_type": "code",
   "execution_count": 47,
   "metadata": {
    "collapsed": true
   },
   "outputs": [],
   "source": [
    "def ConObligation_Number(cik,keyword=\"Payments Due by Period\"):\n",
    "    import time \n",
    "    start_time =time.time()\n",
    "    dict_k=fs_page(cik)\n",
    "    new_dict=dict()\n",
    "    for key, value in dict_k.items():\n",
    "        try:\n",
    "            dfs = pd.read_html(value, match=keyword) \n",
    "            new_row = list()\n",
    "            row= dfs[0]\n",
    "            last = row.dropna(thresh=5).iloc[-1]\n",
    "            for i in last:\n",
    "                if bool(set(str(i)) & set('0123456789')):\n",
    "                    new_row.append(float(str(i).strip('$').replace(',',''))) \n",
    "                else:\n",
    "                    pass\n",
    "            new_dict[key]=new_row[new_row.index(max(new_row))+1]\n",
    "        except:\n",
    "            new_dict[key]='N/A'\n",
    "    print('---%s seconds---'%(time.time()-start_time))\n",
    "    return cik,new_dict\n",
    "    \n"
   ]
  },
  {
   "cell_type": "code",
   "execution_count": 68,
   "metadata": {
    "collapsed": false
   },
   "outputs": [],
   "source": [
    "#set the working directory\n",
    "dict_key=pd.read_excel('keywords_Insurance.xlsx')\n",
    "def get_keyword(cik):\n",
    "    import pandas as pd\n",
    "    dict_key=pd.read_excel('keywords_Insurance.xlsx')\n",
    "    return str(dict_key['keywords'][dict_key['CIK']== int(cik)].iloc[0])"
   ]
  },
  {
   "cell_type": "code",
   "execution_count": 74,
   "metadata": {
    "collapsed": false,
    "scrolled": true
   },
   "outputs": [
    {
     "name": "stdout",
     "output_type": "stream",
     "text": [
      "---569.078000069 seconds---\n"
     ]
    },
    {
     "data": {
      "text/plain": [
       "(5272,\n",
       " {u'2003-12-31': 27826.0,\n",
       "  u'2004-12-31': 58271.0,\n",
       "  u'2005-12-31': 67974.0,\n",
       "  u'2006-12-31': 103120.0,\n",
       "  u'2007-12-31': 120332.0,\n",
       "  u'2008-12-31': 92614.0,\n",
       "  u'2009-12-31': 68748.0,\n",
       "  u'2010-12-31': 54604.0,\n",
       "  u'2011-12-31': 48241.0,\n",
       "  u'2012-12-31': 51299.0,\n",
       "  u'2013-12-31': 47705.0,\n",
       "  u'2014-12-31': 39169.0,\n",
       "  u'2015-12-31': 37774.0,\n",
       "  u'2016-12-31': 36834.0})"
      ]
     },
     "execution_count": 74,
     "metadata": {},
     "output_type": "execute_result"
    }
   ],
   "source": [
    "ConObligation_Number(5272,get_keyword(5272))"
   ]
  },
  {
   "cell_type": "code",
   "execution_count": 75,
   "metadata": {
    "collapsed": false
   },
   "outputs": [],
   "source": [
    "def keywordlist():\n",
    "    ava_list=list()\n",
    "    inava_list=list()\n",
    "    for i in dict_key['CIK']:\n",
    "        if get_keyword(i) != 'nan':\n",
    "            ava_list.append((i,get_keyword(i)))\n",
    "        else:\n",
    "            inava_list.append(i)\n",
    "    return ava_list,inava_list"
   ]
  },
  {
   "cell_type": "code",
   "execution_count": 73,
   "metadata": {
    "collapsed": false
   },
   "outputs": [
    {
     "data": {
      "text/plain": [
       "[(874501, 'Payments Due by Period'),\n",
       " (4977, 'Distribution of Payments by Period'),\n",
       " (5272, 'Payments due by Period'),\n",
       " (1267238, 'contractual obligations'),\n",
       " (899051, 'contractual cash obligation'),\n",
       " (315293, 'Payments due in'),\n",
       " (11544, 'Estimated Payments By Periods'),\n",
       " (1067983, 'Estimated payments due by period'),\n",
       " (896159, 'Payments Due By Period'),\n",
       " (20286, 'Payments due by period'),\n",
       " (21175, 'contractual obligation'),\n",
       " (1054833, 'contractual obligation'),\n",
       " (1276520, 'Payments due by period'),\n",
       " (874766, 'Payments due by period'),\n",
       " (49071, 'Payments Due by Period'),\n",
       " (60086, 'Payments Due by Period'),\n",
       " (62709, 'Contractual Obligations'),\n",
       " (1126328, 'Payments due in year ending'),\n",
       " (80661, 'Contractual Obligations'),\n",
       " (86104, 'Payment By'),\n",
       " (320335, 'Actual\\nActual Liability'),\n",
       " (86312, 'Payments Due by Period'),\n",
       " (731766, 'Total contractual obligations'),\n",
       " (5513, 'Payments Due'),\n",
       " (1156039, 'Payments Due by Period')]"
      ]
     },
     "execution_count": 73,
     "metadata": {},
     "output_type": "execute_result"
    }
   ],
   "source": [
    "ava_list,inava_list=keywordlist()\n",
    "result=list()\n",
    "for i in ava_list:\n",
    "    temp=ConObligation_Number(i[0],i[1])\n",
    "    result.append(temp)\n",
    "    "
   ]
  },
  {
   "cell_type": "code",
   "execution_count": 46,
   "metadata": {
    "collapsed": false
   },
   "outputs": [
    {
     "data": {
      "text/plain": [
       "5272"
      ]
     },
     "execution_count": 46,
     "metadata": {},
     "output_type": "execute_result"
    }
   ],
   "source": [
    "df_final=pd.DataFrame(new_dict,index=(['Prudential'])) \n",
    "df_final"
   ]
  },
  {
   "cell_type": "code",
   "execution_count": null,
   "metadata": {
    "collapsed": true
   },
   "outputs": [],
   "source": []
  }
 ],
 "metadata": {
  "anaconda-cloud": {},
  "kernelspec": {
   "display_name": "Python [conda env:py27]",
   "language": "python",
   "name": "conda-env-py27-py"
  },
  "language_info": {
   "codemirror_mode": {
    "name": "ipython",
    "version": 2
   },
   "file_extension": ".py",
   "mimetype": "text/x-python",
   "name": "python",
   "nbconvert_exporter": "python",
   "pygments_lexer": "ipython2",
   "version": "2.7.13"
  }
 },
 "nbformat": 4,
 "nbformat_minor": 1
}
