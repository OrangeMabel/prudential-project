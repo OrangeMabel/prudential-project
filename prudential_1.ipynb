{
 "cells": [
  {
   "cell_type": "code",
   "execution_count": 14,
   "metadata": {
    "collapsed": true
   },
   "outputs": [],
   "source": [
    "cik = 1137774\n",
    "url=\"https://www.sec.gov/cgi-bin/browse-edgar?action=getcompany&CIK={}&type=10-k&dateb=&owner=exclude&count=40\".format(cik)\n",
    "import requests\n",
    "from bs4 import BeautifulSoup\n",
    "import pandas as pd\n",
    "\n",
    "response=requests.get(url)\n",
    "result_page=BeautifulSoup(response.content,'lxml')\n",
    "exturl = result_page.find_all('a',id='documentsbutton')\n",
    "list_=list()\n",
    "for ext in exturl:\n",
    "    link = \"https://www.sec.gov/\"+ ext.get('href')\n",
    "    list_.append(link)\n",
    "dict_k = dict()\n",
    "\n",
    "for i in list_:\n",
    "    page = BeautifulSoup(requests.get(i).content, 'lxml')\n",
    "    if page.find('strong').text == \"Form 10-K\":\n",
    "        year = page.find_all('div',class_=\"info\")[3].text\n",
    "        test=\"https://www.sec.gov/\"+ page.find_all('td')[2].find('a').get('href')\n",
    "        if \"htm\" in test:\n",
    "    #         print(test)\n",
    "            dict_k[year]=test"
   ]
  },
  {
   "cell_type": "code",
   "execution_count": 33,
   "metadata": {},
   "outputs": [
    {
     "name": "stdout",
     "output_type": "stream",
     "text": [
      "{'2016-12-31': 0    65366.0\n",
      "Name: 4, dtype: float64, '2015-12-31': 0    59982.0\n",
      "Name: 4, dtype: float64, '2014-12-31': 0    73277.0\n",
      "Name: 4, dtype: float64, '2013-12-31': 0    70007.0\n",
      "Name: 4, dtype: float64, '2012-12-31': 0    65457.0\n",
      "Name: 4, dtype: float64, '2011-12-31': 0    64247.0\n",
      "Name: 4, dtype: float64, '2010-12-31': 0    57992.0\n",
      "Name: 4, dtype: float64, '2009-12-31': 0    60511.0\n",
      "Name: 3, dtype: float64, '2008-12-31': 0    74926.0\n",
      "Name: 3, dtype: float64, '2007-12-31': 0    94881.0\n",
      "Name: 3, dtype: float64, '2006-12-31': 0    46981.0\n",
      "Name: 3, dtype: float64, '2005-12-31': 0    13306.0\n",
      "Name: 3, dtype: float64, '2004-12-31': 0    5079.0\n",
      "Name: 3, dtype: float64, '2003-12-31': 0    8482.0\n",
      "Name: 3, dtype: float64}\n"
     ]
    }
   ],
   "source": [
    "new_dict=dict()\n",
    "for key, value in dict_k.items():\n",
    "    try:\n",
    "        dfs = pd.read_html(value, match=\"Payments Due by Period\") \n",
    "        new_row = list()\n",
    "        row= dfs[0]\n",
    "        last = row.dropna(thresh=5).iloc[-1]\n",
    "        for i in last:\n",
    "            try:\n",
    "                isinstance(float(i), float)\n",
    "                new_row.append(float(i))\n",
    "                data=pd.DataFrame(new_row).dropna()\n",
    "                max_=data.max()\n",
    "                data1=data.drop(data.idxmax()) \n",
    "\n",
    "            except ValueError:\n",
    "                pass\n",
    "        new_dict[key]=data1.iloc[0]\n",
    "    except:\n",
    "        pass\n",
    "print(new_dict)\n"
   ]
  },
  {
   "cell_type": "code",
   "execution_count": 54,
   "metadata": {},
   "outputs": [
    {
     "data": {
      "text/html": [
       "<div>\n",
       "<style>\n",
       "    .dataframe thead tr:only-child th {\n",
       "        text-align: right;\n",
       "    }\n",
       "\n",
       "    .dataframe thead th {\n",
       "        text-align: left;\n",
       "    }\n",
       "\n",
       "    .dataframe tbody tr th {\n",
       "        vertical-align: top;\n",
       "    }\n",
       "</style>\n",
       "<table border=\"1\" class=\"dataframe\">\n",
       "  <thead>\n",
       "    <tr style=\"text-align: right;\">\n",
       "      <th></th>\n",
       "      <th>2003-12-31</th>\n",
       "      <th>2004-12-31</th>\n",
       "      <th>2005-12-31</th>\n",
       "      <th>2006-12-31</th>\n",
       "      <th>2007-12-31</th>\n",
       "      <th>2008-12-31</th>\n",
       "      <th>2009-12-31</th>\n",
       "      <th>2010-12-31</th>\n",
       "      <th>2011-12-31</th>\n",
       "      <th>2012-12-31</th>\n",
       "      <th>2013-12-31</th>\n",
       "      <th>2014-12-31</th>\n",
       "      <th>2015-12-31</th>\n",
       "      <th>2016-12-31</th>\n",
       "    </tr>\n",
       "  </thead>\n",
       "  <tbody>\n",
       "    <tr>\n",
       "      <th>Prudential</th>\n",
       "      <td>8482.0</td>\n",
       "      <td>5079.0</td>\n",
       "      <td>13306.0</td>\n",
       "      <td>46981.0</td>\n",
       "      <td>94881.0</td>\n",
       "      <td>74926.0</td>\n",
       "      <td>60511.0</td>\n",
       "      <td>57992.0</td>\n",
       "      <td>64247.0</td>\n",
       "      <td>65457.0</td>\n",
       "      <td>70007.0</td>\n",
       "      <td>73277.0</td>\n",
       "      <td>59982.0</td>\n",
       "      <td>65366.0</td>\n",
       "    </tr>\n",
       "  </tbody>\n",
       "</table>\n",
       "</div>"
      ],
      "text/plain": [
       "            2003-12-31  2004-12-31  2005-12-31  2006-12-31  2007-12-31  \\\n",
       "Prudential      8482.0      5079.0     13306.0     46981.0     94881.0   \n",
       "\n",
       "            2008-12-31  2009-12-31  2010-12-31  2011-12-31  2012-12-31  \\\n",
       "Prudential     74926.0     60511.0     57992.0     64247.0     65457.0   \n",
       "\n",
       "            2013-12-31  2014-12-31  2015-12-31  2016-12-31  \n",
       "Prudential     70007.0     73277.0     59982.0     65366.0  "
      ]
     },
     "execution_count": 54,
     "metadata": {},
     "output_type": "execute_result"
    }
   ],
   "source": [
    "df_final=pd.DataFrame(new_dict,index=(['Prudential'])) \n",
    "df_final"
   ]
  }
 ],
 "metadata": {
  "kernelspec": {
   "display_name": "Python 3",
   "language": "python",
   "name": "python3"
  },
  "language_info": {
   "codemirror_mode": {
    "name": "ipython",
    "version": 3
   },
   "file_extension": ".py",
   "mimetype": "text/x-python",
   "name": "python",
   "nbconvert_exporter": "python",
   "pygments_lexer": "ipython3",
   "version": "3.6.3"
  }
 },
 "nbformat": 4,
 "nbformat_minor": 2
}
